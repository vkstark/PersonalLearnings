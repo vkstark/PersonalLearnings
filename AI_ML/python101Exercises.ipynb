{
 "cells": [
  {
   "cell_type": "markdown",
   "id": "3973d90d",
   "metadata": {},
   "source": [
    "# Automate the boring Stuff with python\n",
    "## Chess Dictionary Validator\n",
    "{'1h': 'bking', '6c': 'wqueen', '2g': 'bbishop', '5h': 'bqueen', '3e': 'wking'} to represent a chess board."
   ]
  },
  {
   "cell_type": "code",
   "execution_count": 103,
   "id": "dd530ab3",
   "metadata": {},
   "outputs": [
    {
     "data": {
      "text/plain": [
       "'True'"
      ]
     },
     "execution_count": 103,
     "metadata": {},
     "output_type": "execute_result"
    }
   ],
   "source": [
    "from typing import Dict\n",
    "# VALID_SPACE = []\n",
    "# for i in range(1,9):\n",
    "#     for j in ['a', 'b', 'c', 'd', 'e','f','g','h']:\n",
    "#         VALID_SPACE.append(f\"{i}{j}\")\n",
    "\n",
    "# Updated chatgpt code\n",
    "VALID_SPACE = {f\"{i}{j}\" for i in range(1, 9) for j in ['a', 'b', 'c', 'd', 'e', 'f', 'g', 'h']}\n",
    "\n",
    "VALID_PIECES = {'king': 1, 'queen': 1, 'knight':2, 'bishop': 2, 'rook': 2, 'pawn':8}\n",
    "\n",
    "# ------------------------\n",
    "\n",
    "current_board_position = {'1h': 'bking', '6c': 'wqueen', '2g': 'bbishop', '5h': 'bqueen', '3e': 'wking'}\n",
    "def isValidChessBoard(current_board_pos: Dict):\n",
    "    for curr_pos in current_board_pos.keys():\n",
    "        if curr_pos not in VALID_SPACE:\n",
    "            raise ValueError(\"INVALID Position OCCUPIED\")\n",
    "    \n",
    "    # Since it's a dictionary, and no two keys can be same, we can skip the check of having two pieces on same square.\n",
    "    white_pieces = {}\n",
    "    black_pieces = {}\n",
    "    for piece in current_board_pos.values():\n",
    "        if piece[0] == 'w':\n",
    "            white_pieces[piece[1:]] = white_pieces.get(piece[1:], 0)+1\n",
    "        elif piece[0] == 'b':\n",
    "            black_pieces[piece[1:]] = black_pieces.get(piece[1:], 0)+1\n",
    "        else:\n",
    "            raise ValueError(f\"\"\"INVALID COLOR INPUT. Neither Black nor White:\" '\"{piece[0]}\"' value should be only w or b\"\"\")\n",
    "    \n",
    "    if 'king' not in white_pieces.keys():\n",
    "        raise ValueError(\"Missing White King\")\n",
    "    if 'king' not in black_pieces.keys():\n",
    "        raise ValueError(\"Missing Black King\")\n",
    "    \n",
    "    for k,v in white_pieces.items():\n",
    "        if k not in VALID_PIECES.keys():\n",
    "            raise ValueError(\"White Pieces are invalid\")\n",
    "        if white_pieces[k] > VALID_PIECES[k]:\n",
    "            raise ValueError(\"Extra White Pieces\")\n",
    "\n",
    "    for k,v in black_pieces.items():\n",
    "        if k not in VALID_PIECES.keys():\n",
    "            raise ValueError(\"Black Pieces are invalid\")\n",
    "        if black_pieces[k] > VALID_PIECES[k]:\n",
    "            raise ValueError(\"Extra Black Pieces\")\n",
    "    \n",
    "    return \"True\"\n",
    "\n",
    "isValidChessBoard(current_board_position)\n"
   ]
  },
  {
   "cell_type": "markdown",
   "id": "fec34d1e",
   "metadata": {},
   "source": [
    "🔍 1. You used sets for VALID_SPACE — smart. But is this optimal?\n",
    "You're using 'a' to 'h' manually. Why not generate that? Think of something like chr() or string.ascii_lowercase[:8].<br>\n",
    "==>> It sure works. <br> Thanks\n",
    "Could VALID_SPACE be computed on the fly instead of stored? <br>\n",
    "==> It can for sure, but the loops will take extra time. \n",
    "\n",
    "Or... flip it: Why validate positions against a hardcoded list at all? Think dynamic constraints. <br>\n",
    "==>> Hmm... that's true. I can just check if the keys[0] are between 1 to 8 and keys[1] are between 'a' to 'h'.\n",
    "\n",
    "🤔 2. You split white/black piece validation manually. Could it be DRY-er? <br>\n",
    "Notice how white_pieces and black_pieces repeat the same loop logic.<br>\n",
    "Yes they do repeat!!!<br>\n",
    "\n",
    "Can you compress that logic? Maybe loop over colors in ('w', 'b')?<br>\n",
    "==>>\n",
    "\n",
    "```\n",
    "pieces = {\n",
    "    'w': {},\n",
    "    'b': {}\n",
    "}\n",
    "for piece in current_board_pos.values():\n",
    "\n",
    "    color = piece[0]\n",
    "\n",
    "    ptype = piece[1:]\n",
    "\n",
    "    if color not in ('w', 'b'):\n",
    "        raise ValueError(\"Invalid piece color\")\n",
    "\n",
    "    if ptype not in VALID_PIECES:\n",
    "        raise ValueError(f\"Invalid piece type: {ptype}\")\n",
    "\n",
    "    pieces[color][ptype] = pieces[color].get(ptype, 0) + 1\n",
    "```\n",
    "\n",
    "Could you build a single function that validates either color's pieces?<br>\n",
    "==>> Can do but not required.\n",
    "\n",
    "💡 3. Why raise errors at every check?\n",
    "Errors are fine for debugging, but would a return False or collection of error messages give you more power later?<br>\n",
    "==>> Hmm... Got it! \n",
    "\n",
    "Would a diagnostic report be more useful if you're analyzing thousands of boards in simulation?<br>\n",
    "==>> Agreed.\n",
    "\n",
    "📦 4. Magic strings are a code smell\n",
    "You’re using lots of \"king\", \"pawn\", etc. scattered across the code.\n",
    "\n",
    "How would this code survive if you decided to allow custom chess variants? <br>\n",
    "==>> Agreed, but how?? :wondering:\n",
    "\n",
    "Consider isolating rules into a config or constant dictionary to decouple logic from data.<br>\n",
    "==>> I see...\n",
    "\n",
    "🧠 5. Can this be a Class?\n",
    "You're passing a board to a function, but you’re dealing with a data model + behavior.<br>\n",
    "==>> It sure can be!!\n",
    "\n",
    "What if ChessBoard was an object, and is_valid() was a method?<br>\n",
    "==>> hmm hmm.. gotcha\n",
    "\n",
    "Think extensibility: What if we later want to validate moves, or score positions, or run simulations?<br>\n",
    "==>> Hmm... what should I do.\n",
    "\n",
    "🧪 6. How testable is this?\n",
    "Can you decouple validation into smaller units so that:\n",
    "\n",
    "```is_valid_position()```\n",
    "```validate_piece_count()```\n",
    "```count_pieces()``` <br>\n",
    "can all be tested independently? <br>\n",
    "==>> yeah!! can be done.\n",
    "\n",
    "Think modular test coverage.\n",
    "\n",
    "🧨 7. Does this scale?\n",
    "What if you wanted to validate 10 million boards? Do you think this structure is fast enough? Where’s your bottleneck?\n",
    "\n",
    "Think profiling: what’s your most expensive operation? Is it in lookups? Dictionary builds? Could caching help?.\n",
    "\n",
    "==>> Hmmmmmm... I wonder"
   ]
  },
  {
   "cell_type": "markdown",
   "id": "6e0ad6b7",
   "metadata": {},
   "source": [
    "### Chatgpt Optimized Code"
   ]
  },
  {
   "cell_type": "code",
   "execution_count": 94,
   "id": "40092970",
   "metadata": {},
   "outputs": [],
   "source": [
    "from typing import Dict\n",
    "import string\n",
    "\n",
    "VALID_SPACE = {f\"{row}{col}\" for row in range(1, 9) for col in string.ascii_lowercase[:8]}  # '1a', '8h'\n",
    "VALID_PIECES = {'king': 1, 'queen': 1, 'rook': 2, 'bishop': 2, 'knight': 2, 'pawn': 8}\n",
    "\n",
    "def isValidChessBoard(board: Dict[str, str]) -> bool:\n",
    "    piece_counts = {'w': {}, 'b': {}}\n",
    "    for pos, piece in board.items():\n",
    "\n",
    "        if pos not in VALID_SPACE:\n",
    "            raise ValueError(f\"Invalid board position: {pos}\")\n",
    "        \n",
    "        if len(piece) < 2:\n",
    "            raise ValueError(f\"Invalid piece format: {piece}\")\n",
    "        \n",
    "        color, ptype = piece[0], piece[1:]\n",
    "\n",
    "        if color not in piece_counts:\n",
    "            raise ValueError(f\"Invalid piece color: {color}\")\n",
    "        \n",
    "        if ptype not in VALID_PIECES:\n",
    "            raise ValueError(f\"Invalid piece type: {ptype}\")\n",
    "        \n",
    "        piece_counts[color][ptype] = piece_counts[color].get(ptype, 0) + 1\n",
    "\n",
    "    for color in ('w', 'b'):\n",
    "        if piece_counts[color].get('king', 0) != 1:\n",
    "            raise ValueError(f\"{color.upper()} side must have exactly one king\")\n",
    "        \n",
    "        total_pieces = sum(piece_counts[color].values())\n",
    "        \n",
    "        if total_pieces > 16:\n",
    "            raise ValueError(f\"{color.upper()} side has too many total pieces: {total_pieces}\")\n",
    "        \n",
    "        for ptype, count in piece_counts[color].items():\n",
    "            if count > VALID_PIECES[ptype]:\n",
    "                raise ValueError(f\"{color.upper()} has too many {ptype}s\")\n",
    "    return True\n"
   ]
  },
  {
   "cell_type": "code",
   "execution_count": 101,
   "id": "c2255f2f",
   "metadata": {},
   "outputs": [
    {
     "name": "stdout",
     "output_type": "stream",
     "text": [
      "True\n"
     ]
    }
   ],
   "source": [
    "board = {\n",
    "    '1a': 'wking', '1b': 'wqueen', '1c': 'wbishop', '1d': 'wbishop',\n",
    "    '1e': 'wrook', '1f': 'wrook', '1g': 'wknight', '1h': 'wknight',\n",
    "    '2a': 'wpawn', '2b': 'wpawn', '2c': 'wpawn', '2d': 'wpawn',\n",
    "    '2e': 'wpawn', '2f': 'wpawn', '2g': 'wpawn', '2h': 'wpawn',\n",
    "    '8a': 'bking'\n",
    "}\n",
    "\n",
    "print(isValidChessBoard(board))  # Should return True"
   ]
  },
  {
   "cell_type": "markdown",
   "id": "a981cdc6",
   "metadata": {},
   "source": [
    "## Fantasy Game Inventory"
   ]
  },
  {
   "cell_type": "code",
   "execution_count": 109,
   "id": "54ce1674",
   "metadata": {},
   "outputs": [
    {
     "name": "stdout",
     "output_type": "stream",
     "text": [
      "Inventory\n",
      "- 1 rope\n",
      "- 6 torch\n",
      "- 42 gold coin\n",
      "- 1 dagger\n",
      "- 12 arrow\n",
      "Total Number of items: 62\n"
     ]
    }
   ],
   "source": [
    "inv = {'rope': 1, 'torch': 6, 'gold coin': 42, 'dagger': 1, 'arrow': 12}\n",
    "def displayInventory(inv: Dict):\n",
    "    print(\"Inventory\")\n",
    "    for k,v in inv.items():\n",
    "        print(f\"- {v} {k}\")\n",
    "    print(f\"Total Number of items: {sum(inv.values())}\")\n",
    "displayInventory(inv)"
   ]
  },
  {
   "cell_type": "markdown",
   "id": "4cf6effb",
   "metadata": {},
   "source": [
    "### List to Dictionary Function for Fantasy Game Inventory"
   ]
  },
  {
   "cell_type": "code",
   "execution_count": 137,
   "id": "1cb7f775",
   "metadata": {},
   "outputs": [
    {
     "name": "stdout",
     "output_type": "stream",
     "text": [
      "Inventory\n",
      "- 45 gold coin\n",
      "- 1 rope\n",
      "- 1 dagger\n",
      "- 1 ruby\n",
      "Total Number of items: 48\n",
      "{'gold coin': 42, 'rope': 1}\n"
     ]
    }
   ],
   "source": [
    "dragonLoot = ['gold coin', 'dagger', 'gold coin', 'gold coin', 'ruby']\n",
    "def addToInventory(inventory: Dict, addedItems):\n",
    "    copy_inv = inventory.copy()\n",
    "    for item in addedItems:\n",
    "        copy_inv[item] = copy_inv.get(item, 0)+1\n",
    "    return copy_inv\n",
    "\n",
    "inv = {'gold coin': 42, 'rope': 1}\n",
    "x = addToInventory(inv, dragonLoot)\n",
    "displayInventory(x)\n",
    "print(inv)\n"
   ]
  },
  {
   "cell_type": "code",
   "execution_count": 138,
   "id": "ad79922b",
   "metadata": {},
   "outputs": [
    {
     "name": "stdout",
     "output_type": "stream",
     "text": [
      "  apples Alice  dogs\n",
      " oranges   Bob  cats\n",
      "cherries Carol moose\n",
      "  banana David goose\n"
     ]
    }
   ],
   "source": [
    "def printTable(tableData):\n",
    "    # Find max width of each column\n",
    "    colWidths = [max(len(item) for item in col) for col in tableData]\n",
    "    numRows = len(tableData[0])\n",
    "    numCols = len(tableData)\n",
    "    \n",
    "    for row in range(numRows):\n",
    "        line = \"\"\n",
    "        for col in range(numCols):\n",
    "            # Right-justify each item in its column width\n",
    "            line += tableData[col][row].rjust(colWidths[col]) + \" \"\n",
    "        print(line.rstrip())\n",
    "\n",
    "# Example usage:\n",
    "tableData = [\n",
    "    ['apples', 'oranges', 'cherries', 'banana'],\n",
    "    ['Alice', 'Bob', 'Carol', 'David'],\n",
    "    ['dogs', 'cats', 'moose', 'goose']\n",
    "]\n",
    "printTable(tableData)\n"
   ]
  },
  {
   "cell_type": "code",
   "execution_count": 139,
   "id": "45ef24bc",
   "metadata": {},
   "outputs": [
    {
     "name": "stdout",
     "output_type": "stream",
     "text": [
      "Collecting zombiedice\n",
      "  Downloading zombiedice-0.1.6.tar.gz (106 kB)\n",
      "  Installing build dependencies ... \u001b[?25ldone\n",
      "\u001b[?25h  Getting requirements to build wheel ... \u001b[?25ldone\n",
      "\u001b[?25h  Preparing metadata (pyproject.toml) ... \u001b[?25ldone\n",
      "\u001b[?25hBuilding wheels for collected packages: zombiedice\n",
      "  Building wheel for zombiedice (pyproject.toml) ... \u001b[?25ldone\n",
      "\u001b[?25h  Created wheel for zombiedice: filename=zombiedice-0.1.6-py3-none-any.whl size=102208 sha256=2db6e972555e2d62b70b28a1e86dbce7bc79f3c64b4efc22090871ee011b3481\n",
      "  Stored in directory: /Users/vishalkumar/Library/Caches/pip/wheels/e6/e5/43/6f66f133f4205717cce50bbdc13ed05398689ef675fe4be05b\n",
      "Successfully built zombiedice\n",
      "Installing collected packages: zombiedice\n",
      "Successfully installed zombiedice-0.1.6\n"
     ]
    }
   ],
   "source": [
    "!pip install zombiedice"
   ]
  },
  {
   "cell_type": "code",
   "execution_count": 140,
   "id": "04ba0bd2",
   "metadata": {},
   "outputs": [
    {
     "name": "stdout",
     "output_type": "stream",
     "text": [
      "Zombie Dice Visualization is running. Open your browser to http://localhost:58523 to view it.\n",
      "Press Ctrl-C to quit.\n"
     ]
    },
    {
     "ename": "SystemExit",
     "evalue": "Quitting...",
     "output_type": "error",
     "traceback": [
      "An exception has occurred, use %tb to see the full traceback.\n",
      "\u001b[31mSystemExit\u001b[39m\u001b[31m:\u001b[39m Quitting...\n"
     ]
    },
    {
     "name": "stderr",
     "output_type": "stream",
     "text": [
      "/opt/anaconda3/envs/mlai_1/lib/python3.12/site-packages/IPython/core/interactiveshell.py:3678: UserWarning: To exit: use 'exit', 'quit', or Ctrl-D.\n",
      "  warn(\"To exit: use 'exit', 'quit', or Ctrl-D.\", stacklevel=1)\n"
     ]
    }
   ],
   "source": [
    "import zombiedice\n",
    "zombiedice.demo()"
   ]
  },
  {
   "cell_type": "code",
   "execution_count": 167,
   "id": "ed0108bf",
   "metadata": {},
   "outputs": [
    {
     "name": "stdout",
     "output_type": "stream",
     "text": [
      "Tournament of 1000 games started...\n",
      "Tournament results:\n",
      "Wins:\n",
      "    Stop at 2 Shotguns  349\n",
      "         My Zombie Bot  236\n",
      "         Until Leading  199\n",
      "     Stop at 1 Shotgun  154\n",
      "                Random   57\n",
      "Ties:\n",
      "    Stop at 2 Shotguns    4\n",
      "     Stop at 1 Shotgun    3\n",
      "         My Zombie Bot    2\n",
      "         Until Leading    1\n",
      "                Random    0\n"
     ]
    }
   ],
   "source": [
    "import zombiedice\n",
    "\n",
    "class MyZombie:\n",
    "    def __init__(self, name):\n",
    "        # All zombies must have a name:\n",
    "        self.name = name\n",
    "\n",
    "    def turn(self, gameState):\n",
    "        # gameState is a dict with info about the current state of the game.\n",
    "        # You can choose to ignore it in your code.\n",
    "\n",
    "        diceRollResults = zombiedice.roll() # first roll\n",
    "        # roll() returns a dictionary with keys 'brains', 'shotgun', and\n",
    "        # 'footsteps' with how many rolls of each type there were.\n",
    "        # The 'rolls' key is a list of (color, icon) tuples with the\n",
    "        # exact roll result information.\n",
    "        # Example of a roll() return value:\n",
    "        # {'brains': 1, 'footsteps': 1, 'shotgun': 1,\n",
    "        #  'rolls': [('yellow', 'brains'), ('red', 'footsteps'),\n",
    "        #            ('green', 'shotgun')]}\n",
    "\n",
    "        # REPLACE THIS ZOMBIE CODE WITH YOUR OWN:\n",
    "        brains = 0\n",
    "        while diceRollResults is not None:\n",
    "            brains += diceRollResults['brains']\n",
    "\n",
    "            if brains < 3:\n",
    "                diceRollResults = zombiedice.roll() # roll again\n",
    "            else:\n",
    "                break\n",
    "\n",
    "zombies = (\n",
    "    zombiedice.examples.RandomCoinFlipZombie(name='Random'),\n",
    "    zombiedice.examples.RollsUntilInTheLeadZombie(name='Until Leading'),\n",
    "    zombiedice.examples.MinNumShotgunsThenStopsZombie(name='Stop at 2 Shotguns', minShotguns=2),\n",
    "    zombiedice.examples.MinNumShotgunsThenStopsZombie(name='Stop at 1 Shotgun', minShotguns=1),\n",
    "    MyZombie(name='My Zombie Bot'),\n",
    "    # Add any other zombie players here.\n",
    ")\n",
    "\n",
    "# Uncomment one of the following lines to run in CLI or Web GUI mode:\n",
    "zombiedice.runTournament(zombies=zombies, numGames=1000)\n",
    "# zombiedice.runWebGui(zombies=zombies, numGames=1000)"
   ]
  },
  {
   "cell_type": "code",
   "execution_count": null,
   "id": "283a106a",
   "metadata": {},
   "outputs": [],
   "source": []
  },
  {
   "cell_type": "code",
   "execution_count": null,
   "id": "ddc71985",
   "metadata": {},
   "outputs": [],
   "source": []
  }
 ],
 "metadata": {
  "kernelspec": {
   "display_name": "mlai_1",
   "language": "python",
   "name": "python3"
  },
  "language_info": {
   "codemirror_mode": {
    "name": "ipython",
    "version": 3
   },
   "file_extension": ".py",
   "mimetype": "text/x-python",
   "name": "python",
   "nbconvert_exporter": "python",
   "pygments_lexer": "ipython3",
   "version": "3.12.9"
  }
 },
 "nbformat": 4,
 "nbformat_minor": 5
}
